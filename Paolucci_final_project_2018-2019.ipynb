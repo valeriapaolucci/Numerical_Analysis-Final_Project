{
 "cells": [
  {
   "cell_type": "markdown",
   "metadata": {},
   "source": [
    "# Valeria Paolucci - Final project, Numerical Analysis 2018-2019"
   ]
  },
  {
   "cell_type": "code",
   "execution_count": 1,
   "metadata": {},
   "outputs": [
    {
     "name": "stdout",
     "output_type": "stream",
     "text": [
      "Populating the interactive namespace from numpy and matplotlib\n"
     ]
    }
   ],
   "source": [
    "%pylab inline"
   ]
  },
  {
   "cell_type": "code",
   "execution_count": 2,
   "metadata": {},
   "outputs": [
    {
     "name": "stdout",
     "output_type": "stream",
     "text": [
      "(60000, 28, 28) (60000,)\n",
      "(10000, 28, 28) (10000,)\n"
     ]
    }
   ],
   "source": [
    "arc = load('mnist.npz')\n",
    "\n",
    "x_train = arc['arr_0']\n",
    "y_train = arc['arr_1']\n",
    "x_test  = arc['arr_2']\n",
    "y_test  = arc['arr_3']\n",
    "\n",
    "print(x_train.shape, y_train.shape)\n",
    "print(x_test.shape, y_test.shape)"
   ]
  },
  {
   "cell_type": "code",
   "execution_count": 3,
   "metadata": {},
   "outputs": [
    {
     "data": {
      "image/png": "[encoded data removed]",
      "text/plain": [
       "<matplotlib.figure.Figure at 0x7f88081d3a20>"
      ]
     },
     "metadata": {},
     "output_type": "display_data"
    }
   ],
   "source": [
    "# Show image number 15, and write in the title what digit it should correspond to\n",
    "N=15\n",
    "imshow(x_train[N], cmap='gray_r')\n",
    "_ = title('Hand written digit '+str(y_train[N]))"
   ]
  },
  {
   "cell_type": "code",
   "execution_count": 4,
   "metadata": {
    "collapsed": true
   },
   "outputs": [],
   "source": [
    "def classify(z, dist):\n",
    "    all_distances = array([dist(x, z) for x in x_train])\n",
    "    digit = y_train[argmin(all_distances)]\n",
    "    return digit"
   ]
  },
  {
   "cell_type": "markdown",
   "metadata": {},
   "source": [
    "\n",
    "# Assignment 1\n",
    "\n",
    "Implement the following distance functions\n",
    "\n",
    "- d_infty $$ d_{\\infty}(a,b) := \\max_{i,j} |b_{ij}-a_{ij}|$$\n",
    "- d_one $$ d_1(a,b) := \\sum_{i,j} |b_{ij}-a_{ij}|$$\n",
    "- d_two $$ d_2(a,b) := \\sqrt{\\sum_{i,j} |b_{ij}-a_{ij}|^2}$$\n",
    "\n",
    "that take two `(28,28)` images in input, and return a non-negative number."
   ]
  },
  {
   "cell_type": "code",
   "execution_count": 5,
   "metadata": {
    "collapsed": true
   },
   "outputs": [],
   "source": [
    "def d_infty(a,b):\n",
    "    return np.linalg.norm((b-a).ravel(), inf)\n",
    "\n",
    "def d_one(a,b):\n",
    "    return np.linalg.norm((b-a).ravel(), 1)\n",
    "\n",
    "def d_two(a,b):\n",
    "    return np.linalg.norm((b-a).ravel(), 2)"
   ]
  },
  {
   "cell_type": "markdown",
   "metadata": {},
   "source": [
    "# Assignment 2\n",
    "\n",
    "Write a function that, given a number `N`, and a distance function `dist`, computes the distance matrix D of shape `(N,N)` between the first `N` entries of `x_train`:\n",
    "\n",
    "```\n",
    "D[i,j] = dist(x_train[i], x_train[j])\n",
    "```\n",
    "\n",
    "performing the **minimum** number of operations (i.e., avoid computing a distance if it has already been computed before, i.e., keep in mind that dist(a,b) = dist(b,a))."
   ]
  },
  {
   "cell_type": "code",
   "execution_count": 6,
   "metadata": {
    "collapsed": true
   },
   "outputs": [],
   "source": [
    "def compute_distance_matrix(N,dist):\n",
    "    \n",
    "    # D is of shape (N,N)\n",
    "    D = zeros((N,N))\n",
    "    # considering all the rows in D\n",
    "    for i in range(N):\n",
    "        # for each row, considering only the entries whose column index is smaller than i (the current row index)\n",
    "        for j in range(i):\n",
    "            # dist(a,b) = dist(b,a)\n",
    "            D[i,j] = D[j,i] = dist(x_train[i],x_train[j])\n",
    "            \n",
    "    return D"
   ]
  },
  {
   "cell_type": "markdown",
   "metadata": {},
   "source": [
    "# Assignment 3\n",
    "\n",
    "Compute and plot the three distance matrices\n",
    "\n",
    "- Dinfty\n",
    "- D1\n",
    "- D2\n",
    "\n",
    "for the first 100 images of the training set, using the function `imshow` applied to the three matrices"
   ]
  },
  {
   "cell_type": "code",
   "execution_count": 7,
   "metadata": {},
   "outputs": [
    {
     "name": "stdout",
     "output_type": "stream",
     "text": [
      "CPU times: user 234 ms, sys: 3.75 ms, total: 237 ms\n",
      "Wall time: 235 ms\n",
      "\n",
      "CPU times: user 262 ms, sys: 1.52 ms, total: 264 ms\n",
      "Wall time: 244 ms\n",
      "\n",
      "CPU times: user 221 ms, sys: 8.1 ms, total: 229 ms\n",
      "Wall time: 210 ms\n"
     ]
    },
    {
     "data": {
      "image/png": "[encoded data removed]",
      "text/plain": [
       "<matplotlib.figure.Figure at 0x7f88080a5f60>"
      ]
     },
     "metadata": {},
     "output_type": "display_data"
    },
    {
     "data": {
      "image/png": "[encoded data removed]",
      "text/plain": [
       "<matplotlib.figure.Figure at 0x7f8808099c18>"
      ]
     },
     "metadata": {},
     "output_type": "display_data"
    },
    {
     "data": {
      "image/png": "[encoded data removed]",
      "text/plain": [
       "<matplotlib.figure.Figure at 0x7f87efdcc898>"
      ]
     },
     "metadata": {},
     "output_type": "display_data"
    }
   ],
   "source": [
    "# Compute the three distance matrices for the first 100 images of the training set\n",
    "%time Dinfty = compute_distance_matrix(100, d_infty)\n",
    "print()\n",
    "%time D1 = compute_distance_matrix(100, d_one)\n",
    "print()\n",
    "%time D2 = compute_distance_matrix(100, d_two)\n",
    "\n",
    "# plot them using the function imshow\n",
    "figure(1)\n",
    "imshow(Dinfty, cmap='gray_r')\n",
    "_ = title('Dinfty\\n')\n",
    "\n",
    "figure(2)\n",
    "imshow(D1, cmap='gray_r')\n",
    "_ = title('D1\\n')\n",
    "\n",
    "figure(3)\n",
    "imshow(D2, cmap='gray_r')\n",
    "_ = title('D2\\n')"
   ]
  },
  {
   "cell_type": "markdown",
   "metadata": {},
   "source": [
    "# Assignment 4\n",
    "\n",
    "Using only a distance matrix, apply the algorithm described above and compute the efficency of the algorithm, i.e., write a function that:\n",
    "\n",
    "Given a distance matrix with shape `(N,N)`, constructed on the first `N` samples of the `x_train` set, count the number of failures of the **leave one out** strategy, i.e., \n",
    "\n",
    "- set `error_counter` to zero\n",
    "\n",
    "- for every line `i` of the matrix:\n",
    "\n",
    "    - find the index `j` (different from `i`) for which `D[i,k] >= D[i,j]` for all `k` different from `i` and `j`.\n",
    "\n",
    "    - if `y_train[j]` is different from `y_train[i]`, increment by one `error_counter`\n",
    "\n",
    "- return the error: error_counter/N\n",
    "\n",
    "- apply the function above to the 3 different distance matrices you computed before"
   ]
  },
  {
   "cell_type": "code",
   "execution_count": 8,
   "metadata": {
    "collapsed": true
   },
   "outputs": [],
   "source": [
    "def compute_efficiency(D, N):\n",
    "    \n",
    "    # The distance matrix can be computed only once (for each of the three different distances)\n",
    "    # and then passed as function parameter (D);\n",
    "    # then we can consider just its first N rows/columns\n",
    "    # by specifying the desired number by means of  the parameter N\n",
    "    D = D[0:N,0:N]\n",
    "    \n",
    "    # diagonal entries (equal to 0.0) must not be taken into account\n",
    "    D = numpy.ma.masked_equal(D, 0.0, copy=False)\n",
    "    \n",
    "    # set error_counter to zero\n",
    "    error_counter = 0\n",
    "    \n",
    "    # for each row in D\n",
    "    for i in range(N):\n",
    "        \n",
    "        # find the index j (different from i) corresponding to the minimum value\n",
    "        j = argmin(D[i])\n",
    "        \n",
    "        # if y_train[j] is different from y_train[i]\n",
    "        if (y_train[j] != y_train[i]):\n",
    "            \n",
    "            #increment by one error_counter\n",
    "            error_counter = error_counter + 1\n",
    "            \n",
    "    # return the error\n",
    "    return error_counter/N"
   ]
  },
  {
   "cell_type": "code",
   "execution_count": 9,
   "metadata": {},
   "outputs": [
    {
     "name": "stdout",
     "output_type": "stream",
     "text": [
      "CPU times: user 28 ms, sys: 3.62 ms, total: 31.6 ms\n",
      "Wall time: 28 ms\n",
      "\n",
      "CPU times: user 18.9 ms, sys: 0 ns, total: 18.9 ms\n",
      "Wall time: 19 ms\n",
      "\n",
      "CPU times: user 20.5 ms, sys: 3.16 ms, total: 23.7 ms\n",
      "Wall time: 20.3 ms\n"
     ]
    },
    {
     "data": {
      "text/plain": [
       "(0.58, 0.17, 0.17)"
      ]
     },
     "execution_count": 9,
     "metadata": {},
     "output_type": "execute_result"
    }
   ],
   "source": [
    "# Apply the function above to the 3 different distance matrices computed before\n",
    "\n",
    "%time err_infty = compute_efficiency(Dinfty, 100)\n",
    "print()\n",
    "%time err_1 = compute_efficiency(D1, 100)\n",
    "print()\n",
    "%time err_2 = compute_efficiency(D2, 100)\n",
    "\n",
    "err_infty, err_1, err_2"
   ]
  },
  {
   "cell_type": "markdown",
   "metadata": {},
   "source": [
    "# Assignment 5\n",
    "\n",
    "Run the algorithm implemented above for N=100,200,400,800,1600 on the three different distances, and plot the three error rate as a function of N (i.e., compute the distance matrix, and compute the efficiency associated to the distance matrix).\n",
    "\n",
    "You should get an error like:\n",
    "```\n",
    "[[ 0.58      0.17      0.17    ]\n",
    " [ 0.52      0.145     0.135   ]\n",
    " [ 0.4425    0.15      0.135   ]\n",
    " [ 0.4       0.145     0.12875 ]\n",
    " [ 0.369375  0.1025    0.09375 ]]\n",
    "```\n",
    "where each column represents a different norm."
   ]
  },
  {
   "cell_type": "code",
   "execution_count": 10,
   "metadata": {},
   "outputs": [
    {
     "name": "stdout",
     "output_type": "stream",
     "text": [
      "CPU times: user 1.75 s, sys: 24 ms, total: 1.77 s\n",
      "Wall time: 1.76 s\n",
      "\n",
      "Checking that the error obtained matches the values reported above:\n",
      "[[ 0.58      0.17      0.17    ]\n",
      " [ 0.52      0.145     0.135   ]\n",
      " [ 0.4425    0.15      0.135   ]\n",
      " [ 0.4       0.145     0.12875 ]\n",
      " [ 0.369375  0.1025    0.09375 ]]\n"
     ]
    }
   ],
   "source": [
    "# For N = 100,200,400,800,1600\n",
    "dim = [100,200,400,800,1600]\n",
    "\n",
    "# on the three different instances\n",
    "instances = [d_infty, d_one, d_two]\n",
    "\n",
    "# compute the distance matrix\n",
    "matrices = [compute_distance_matrix(max(dim), i) for i in instances]\n",
    "\n",
    "# compute the efficiency associated to the distance matrix\n",
    "% time errors = [[compute_efficiency(m,n) for m in matrices] for n in dim]\n",
    "\n",
    "\n",
    "print(\"\\nChecking that the error obtained matches the values reported above:\")\n",
    "print(np.matrix(errors))"
   ]
  },
  {
   "cell_type": "code",
   "execution_count": 11,
   "metadata": {},
   "outputs": [
    {
     "data": {
      "image/png": "[encoded data removed]",
      "text/plain": [
       "<matplotlib.figure.Figure at 0x7f87efd9ae10>"
      ]
     },
     "metadata": {},
     "output_type": "display_data"
    }
   ],
   "source": [
    "plot(dim, errors)\n",
    "_ = title(\"\\nError rates as a function of N\\n\")\n",
    "_ = legend([\"d_infty\",\"d_one\",\"d_two\"])"
   ]
  },
  {
   "cell_type": "markdown",
   "metadata": {},
   "source": [
    "# Assignment 6\n",
    "\n",
    "In principle, it should be possible to decrease the error by using a better norm. From the table above, it is clear that the L2 distance works better than the L1 distance, which works better than the Linfty distance.\n",
    "\n",
    "However, *none of these distances exploit the fact that the image is a two-dimensional object*, and that there is information also in the **neighboring** information of the pixels. \n",
    "\n",
    "One way to exploit this, is to interpret the image as a continuous function with values between zero and one, defined on a square domain `\\Omega=[0,27]x[0,27]`.\n",
    "\n",
    "$$ f: \\Omega \\to R $$\n",
    "\n",
    "- Implement a function that computes an approximation of the $H^1$ norm distance on the renormalized images. Given two images $f_1$ and $f_2$\n",
    "    - Compute $$a = \\frac{f_1}{\\int_\\Omega f_1}$$, $$b=\\frac{f_2}{\\int_\\Omega f_2}$$\n",
    "    - Define the $H^1$ distance as\n",
    "    $$\n",
    "    d_{H^1}(f_1,f_2) := \\sqrt{\\int_\\Omega |\\nabla(a-b)|^2+ (a-b)^2}\n",
    "    $$\n",
    "    using the algorithm you prefer (or the library you prefer) to compute the gradients and the integrals. Notice that $\\nabla f = (\\partial f/\\partial x, \\partial f/\\partial y)$ is a vector valued function, and $|\\nabla g|^2 := (\\partial g/\\partial x)^2 + (\\partial g/\\partial y)^2$\n",
    "\n",
    "- Compute the distance matrix and the efficiency for this distance for N=100,200,400,800,1600\n"
   ]
  },
  {
   "cell_type": "code",
   "execution_count": 12,
   "metadata": {
    "collapsed": true
   },
   "outputs": [],
   "source": [
    "def compute_gradient_squared(f):\n",
    "    grad = np.gradient(f)\n",
    "    return grad[0]**2 + grad[1]**2\n",
    "\n",
    "\n",
    "# Implement a function that computes an approximation of the H1 norm distance on the renormalized images\n",
    "def d_H1(f1,f2):\n",
    "    # Given two images  f1  and  f2, compute a and b\n",
    "    a = f1/np.sum(f1)\n",
    "    b = f2/np.sum(f2)\n",
    "    difference = a-b\n",
    "    \n",
    "    return sqrt(sum(compute_gradient_squared(difference) + difference**2))"
   ]
  },
  {
   "cell_type": "code",
   "execution_count": 13,
   "metadata": {},
   "outputs": [
    {
     "name": "stdout",
     "output_type": "stream",
     "text": [
      "CPU times: user 590 ms, sys: 4 ms, total: 594 ms\n",
      "Wall time: 594 ms\n",
      "\n",
      "[0.23, 0.175, 0.145, 0.12125, 0.099375]\n"
     ]
    }
   ],
   "source": [
    "# For N = 100,200,400,800,1600\n",
    "dim = [100,200,400,800,1600]\n",
    "\n",
    "# compute the distance matrix\n",
    "DH1 = compute_distance_matrix(max(dim), d_H1)\n",
    "\n",
    "# compute the efficiency associated to the distance matrix\n",
    "% time H1_errors = [compute_efficiency(DH1,n) for n in dim]\n",
    "\n",
    "print()\n",
    "print(H1_errors)"
   ]
  },
  {
   "cell_type": "markdown",
   "metadata": {},
   "source": [
    "## Assignment 7\n",
    "\n",
    "An even better improvement on the previous distance function is given by the following algorithm\n",
    "\n",
    "- Given two images $f1$ and $f2$:\n",
    "    - Compute $$a = \\frac{f_1}{\\int_\\Omega f_1}$$, $$b=\\frac{f_2}{\\int_\\Omega f_2}$$\n",
    "    - Solve \n",
    "    $$\n",
    "    -\\Delta \\phi = a - b \\qquad \\text{ in } \\Omega\n",
    "    $$\n",
    "    $$\n",
    "    \\phi = 0 \\text{ on } \\partial\\Omega\n",
    "    $$\n",
    "    - Define the *Monge Ampere* distance\n",
    "    $$\n",
    "    d_{MA}(f_1,f_2) = \\int_\\Omega (a+b)|\\nabla \\phi|^2\n",
    "    $$\n",
    "\n",
    "- Compute the distance matrix and the efficiency for this distance for N=100,200,400,800,1600"
   ]
  },
  {
   "cell_type": "code",
   "execution_count": 14,
   "metadata": {
    "collapsed": true
   },
   "outputs": [],
   "source": [
    "from scipy.sparse import diags\n",
    "from scipy.sparse import csc_matrix\n",
    "from scipy.sparse.linalg import splu"
   ]
  },
  {
   "cell_type": "code",
   "execution_count": 15,
   "metadata": {
    "collapsed": true
   },
   "outputs": [],
   "source": [
    "def build_laplacian(N):\n",
    "    diagonals = [1, 1, -4, 1, 1]\n",
    "    offsets = [-N, -1, 0, 1, N]\n",
    "    M = -(1)*diags(diagonals, offsets, shape=(N*N, N*N)).toarray()\n",
    "    for i in range(1,N):\n",
    "        M[i*N,(i*N)-1] = 0\n",
    "        M[(i*N)-1,i*N] = 0\n",
    "    return M"
   ]
  },
  {
   "cell_type": "code",
   "execution_count": 16,
   "metadata": {},
   "outputs": [
    {
     "data": {
      "text/plain": [
       "array([[ 4., -1., -0., -1., -0., -0., -0., -0., -0.],\n",
       "       [-1.,  4., -1., -0., -1., -0., -0., -0., -0.],\n",
       "       [-0., -1.,  4.,  0., -0., -1., -0., -0., -0.],\n",
       "       [-1., -0.,  0.,  4., -1., -0., -1., -0., -0.],\n",
       "       [-0., -1., -0., -1.,  4., -1., -0., -1., -0.],\n",
       "       [-0., -0., -1., -0., -1.,  4.,  0., -0., -1.],\n",
       "       [-0., -0., -0., -1., -0.,  0.,  4., -1., -0.],\n",
       "       [-0., -0., -0., -0., -1., -0., -1.,  4., -1.],\n",
       "       [-0., -0., -0., -0., -0., -1., -0., -1.,  4.]])"
      ]
     },
     "execution_count": 16,
     "metadata": {},
     "output_type": "execute_result"
    }
   ],
   "source": [
    "# Testing the correctness of build_laplacian\n",
    "block_size = 3\n",
    "my_matrix = build_laplacian(block_size)\n",
    "my_matrix"
   ]
  },
  {
   "cell_type": "code",
   "execution_count": 17,
   "metadata": {
    "collapsed": true
   },
   "outputs": [],
   "source": [
    "N = len(x_train[0])-2\n",
    "M = build_laplacian(N)\n",
    "\n",
    "# we want M in CSC format (\"Compressed Sparse Column\")\n",
    "M = csc_matrix(M)\n",
    "# to compute its LU decomposition \n",
    "LU = splu(M)"
   ]
  },
  {
   "cell_type": "code",
   "execution_count": 18,
   "metadata": {
    "collapsed": true
   },
   "outputs": [],
   "source": [
    "def solve_sys(image):\n",
    "    interior = image[1:-1,1:-1].ravel()\n",
    "    u = LU.solve(interior)\n",
    "    u = reshape(u,(N,N))\n",
    "    solution = zeros((N+2,N+2))\n",
    "    solution[1:-1,1:-1] = u\n",
    "    return solution"
   ]
  },
  {
   "cell_type": "code",
   "execution_count": 19,
   "metadata": {
    "collapsed": true
   },
   "outputs": [],
   "source": [
    "# Implement a function that computes the Monge Ampere distance\n",
    "def d_MA(f1,f2):\n",
    "    \n",
    "    # Given two images  f1  and  f2, compute a and b\n",
    "    a = f1/sum(f1)\n",
    "    b = f2/sum(f2)\n",
    "    difference = a-b\n",
    "    \n",
    "    phi = solve_sys(difference)\n",
    "    \n",
    "    return sum((a+b)*compute_gradient_squared(phi))"
   ]
  },
  {
   "cell_type": "code",
   "execution_count": 21,
   "metadata": {},
   "outputs": [
    {
     "name": "stdout",
     "output_type": "stream",
     "text": [
      "CPU times: user 596 ms, sys: 4 ms, total: 600 ms\n",
      "Wall time: 600 ms\n",
      "\n",
      "[0.24, 0.2, 0.145, 0.12875, 0.12125]\n"
     ]
    }
   ],
   "source": [
    "# For N = 100,200,400,800,1600\n",
    "dim = [100,200,400,800,1600]\n",
    "\n",
    "# compute the distance matrix\n",
    "DMA = compute_distance_matrix(max(dim), d_MA)\n",
    "\n",
    "# compute the efficiency associated to the distance matrix\n",
    "% time MA_errors = [compute_efficiency(DMA,n) for n in dim]\n",
    "\n",
    "print()\n",
    "print(MA_errors)"
   ]
  },
  {
   "cell_type": "code",
   "execution_count": 22,
   "metadata": {},
   "outputs": [
    {
     "name": "stdout",
     "output_type": "stream",
     "text": [
      "[[ 0.58      0.17      0.17      0.23      0.24    ]\n",
      " [ 0.52      0.145     0.135     0.175     0.2     ]\n",
      " [ 0.4425    0.15      0.135     0.145     0.145   ]\n",
      " [ 0.4       0.145     0.12875   0.12125   0.12875 ]\n",
      " [ 0.369375  0.1025    0.09375   0.099375  0.12125 ]]\n"
     ]
    }
   ],
   "source": [
    "for i in range(len(errors)):\n",
    "    errors[i].append(H1_errors[i])\n",
    "    errors[i].append(MA_errors[i])\n",
    "print(np.matrix(errors))"
   ]
  },
  {
   "cell_type": "code",
   "execution_count": 23,
   "metadata": {},
   "outputs": [
    {
     "data": {
      "image/png": "[encoded data removed]",
      "text/plain": [
       "<matplotlib.figure.Figure at 0x7f87e51e4b38>"
      ]
     },
     "metadata": {},
     "output_type": "display_data"
    }
   ],
   "source": [
    "plot(dim, errors)\n",
    "_ = title(\"\\nError rates as a function of N\\n\")\n",
    "_ = legend([\"d_infty\",\"d_one\",\"d_two\", \"d_H1\", \"d_MA\"])"
   ]
  },
  {
   "cell_type": "code",
   "execution_count": null,
   "metadata": {
    "collapsed": true
   },
   "outputs": [],
   "source": []
  }
 ],
 "metadata": {
  "kernelspec": {
   "display_name": "Python 3",
   "language": "python",
   "name": "python3"
  },
  "language_info": {
   "codemirror_mode": {
    "name": "ipython",
    "version": 3
   },
   "file_extension": ".py",
   "mimetype": "text/x-python",
   "name": "python",
   "nbconvert_exporter": "python",
   "pygments_lexer": "ipython3",
   "version": "3.6.3"
  }
 },
 "nbformat": 4,
 "nbformat_minor": 2
}
